{
 "cells": [
  {
   "cell_type": "markdown",
   "metadata": {
    "collapsed": true
   },
   "source": [
    "# Step Two Build Single Photon Model\n",
    "* synchronises every trace to the middle of the acquisition window\n",
    "* averages down the traces to create a first approximation of an average pulse\n",
    "* use this first approximation to build a model\n",
    "* fit all the traces again using this model, and use the fitted offset values to synchronise the pulses again\n",
    "* once synchronised, average down to create a better approximation of a single photon model"
   ]
  },
  {
   "cell_type": "code",
   "execution_count": 1,
   "metadata": {
    "collapsed": true
   },
   "outputs": [],
   "source": [
    "from __future__ import division\n",
    "import tqdm, os, sys\n",
    "sys.path.append('/mnt/disk0/home/jianwei_leejw/scripts/TESPulseFitCode')\n",
    "import numpy as np\n",
    "import matplotlib\n",
    "import matplotlib.pyplot as plt\n",
    "import glob\n",
    "from lmfit import Model, Parameters\n",
    "\n",
    "from multiprocess import Pool\n",
    "import trace_param as tp\n",
    "import heralded_pulses_analysis as hpa\n",
    "import pulse_averaging_cw as pacw\n",
    "import pulse_utils as pu\n",
    "results_directory = './'"
   ]
  },
  {
   "cell_type": "code",
   "execution_count": 2,
   "metadata": {},
   "outputs": [
    {
     "name": "stdout",
     "output_type": "stream",
     "text": [
      "10000 of 7528 n=1 traces will be sampled for creating the single photon model\n"
     ]
    }
   ],
   "source": [
    "# Import Single Photon Filelist\n",
    "filelist_1ph = np.loadtxt(results_directory + 'filelist_single_photon.dat', dtype='string')\n",
    "num_of_1ph_traces = len(filelist_1ph)\n",
    "sample_size = 10000\n",
    "print('{} of {} n=1 traces will be sampled for creating the single photon model'.format(sample_size, num_of_1ph_traces))"
   ]
  },
  {
   "cell_type": "code",
   "execution_count": 3,
   "metadata": {},
   "outputs": [
    {
     "name": "stdout",
     "output_type": "stream",
     "text": [
      "0.00960969308803 850\n"
     ]
    }
   ],
   "source": [
    "# Import/Set discriminator settings\n",
    "[height_th, offset] = np.loadtxt(results_directory + 'disc_settings.dat')\n",
    "offset = int(offset)\n",
    "print height_th, offset"
   ]
  },
  {
   "cell_type": "code",
   "execution_count": 4,
   "metadata": {},
   "outputs": [
    {
     "name": "stderr",
     "output_type": "stream",
     "text": [
      "/usr/local/lib/python2.7/dist-packages/peakutils/peak.py:216: UserWarning: Optimal parameters not found: Number of calls to function has reached maxfev = 800.\n",
      "  warnings.warn(str(e))\n"
     ]
    }
   ],
   "source": [
    "# Synchronise each single photon pulse to t = 0\n",
    "# Generate average pulse\n",
    "reload(pacw)\n",
    "time_p, signal_p = pacw.trace_ave(filelist_1ph[:sample_size], \n",
    "                                  high_th = height_th,\n",
    "                                  low_th = 0,\n",
    "                                  offset = offset)"
   ]
  },
  {
   "cell_type": "code",
   "execution_count": 5,
   "metadata": {
    "collapsed": true
   },
   "outputs": [],
   "source": [
    "# Use average pulse to generate single photon model\n",
    "def one_pulse(x, x_offset=0, amplitude=1):\n",
    "    \"\"\"convert the sample single photon pulse into a function\n",
    "    that can be used in a fit\n",
    "    \"\"\"\n",
    "    x = x - x_offset\n",
    "    return amplitude * np.interp(x, time_p, signal_p)\n",
    "\n",
    "fit_model = Model(one_pulse)"
   ]
  },
  {
   "cell_type": "code",
   "execution_count": 6,
   "metadata": {
    "collapsed": true
   },
   "outputs": [],
   "source": [
    "# Use model to generate another model that has horizontal offset correction\n",
    "reload(pacw)\n",
    "time_f, signal_f, sigma_f = pacw.fit_corrected_pulse(filelist_1ph[:sample_size],\n",
    "                                                     high_th = height_th,\n",
    "                                                     low_th = 0,\n",
    "                                                     offset = offset,\n",
    "                                                     fit_model = fit_model)"
   ]
  },
  {
   "cell_type": "markdown",
   "metadata": {},
   "source": [
    "## Pulse Characteristics"
   ]
  },
  {
   "cell_type": "code",
   "execution_count": 7,
   "metadata": {},
   "outputs": [
    {
     "data": {
      "image/png": "[encoded data removed]",
      "text/plain": [
       "<matplotlib.figure.Figure at 0x7f9e28897190>"
      ]
     },
     "metadata": {},
     "output_type": "display_data"
    },
    {
     "name": "stdout",
     "output_type": "stream",
     "text": [
      "signal max = 21.72 mV\n",
      "SNR = 4.9\n",
      "risetime = 3894.00 ns\n"
     ]
    },
    {
     "data": {
      "image/png": "[encoded data removed]",
      "text/plain": [
       "<matplotlib.figure.Figure at 0x7f9e26648450>"
      ]
     },
     "metadata": {},
     "output_type": "display_data"
    },
    {
     "name": "stdout",
     "output_type": "stream",
     "text": [
      "decaytime = 377.47 ns\n"
     ]
    }
   ],
   "source": [
    "# Plot model with rise time\n",
    "reload(pu)\n",
    "plt.figure()\n",
    "plt.errorbar(time_f, signal_f, yerr=sigma_f)\n",
    "plt.show()\n",
    "print 'signal max = {:.2f} mV'.format(np.max(signal_f)*1000)\n",
    "sigma0 = np.loadtxt(results_directory + 'rms.dat')\n",
    "print 'SNR = {:.1f}'.format(np.max(signal_f)/(2.355*sigma0))\n",
    "print 'risetime = {:.2f} ns'.format(pu.rise_time(time_f,signal_f,plot=False)*1e9)\n",
    "print 'decaytime = {:.2f} ns'.format(pu.decay_time(time_f,signal_f,plot=True)*1e9)"
   ]
  },
  {
   "cell_type": "code",
   "execution_count": 8,
   "metadata": {
    "collapsed": true
   },
   "outputs": [],
   "source": [
    "# Manually kill off fuzzy portions of the average pulse.\n",
    "# Fuzziness is caused by noise pulses occuring at the end of the trace - most of the traces occur at the beginning. \n",
    "# Shifting the few noise pulses leftwards produces backgrounds that can't be averaged down to a flat baseline.\n",
    "mask = [time_f > -2e-6]\n",
    "time_f = time_f[mask]\n",
    "signal_f = signal_f[mask]\n",
    "sigma_f = sigma_f[mask]"
   ]
  },
  {
   "cell_type": "code",
   "execution_count": 9,
   "metadata": {},
   "outputs": [
    {
     "data": {
      "image/png": "[encoded data removed]",
      "text/plain": [
       "<matplotlib.figure.Figure at 0x7f9e287bc410>"
      ]
     },
     "metadata": {},
     "output_type": "display_data"
    }
   ],
   "source": [
    "plt.figure()\n",
    "plt.errorbar(time_f, signal_f, yerr=sigma_f)\n",
    "plt.show()"
   ]
  },
  {
   "cell_type": "code",
   "execution_count": 6,
   "metadata": {
    "collapsed": true
   },
   "outputs": [],
   "source": [
    "# Typical Length of single-photon pulse identified by discriminator\n",
    "if os.path.isfile(results_directory + 'ph1_model_from_cw_disc.dat'):\n",
    "    time_f, signal_f, sigma_f = np.loadtxt(results_directory + 'ph1_model_from_cw_disc.dat').T"
   ]
  },
  {
   "cell_type": "markdown",
   "metadata": {},
   "source": [
    "reload(pu)\n",
    "mask_ext = pu.disc_peak_full(signal_f,height_th,1e-5,offset) # set the low threshold to about 1e-5, in case the model trace is 'floating' above zero a little bit, and the mask doesn't trigger.\n",
    "mask = pu.disc_peak_full(signal_f,height_th,1e-5,0)\n",
    "print time_f[(mask[:-1]-mask[1:])>0]\n",
    "f, axarr = plt.subplots(3,1,sharex=True)\n",
    "# plt.xlim(-5e-7,4e-7)\n",
    "axarr[0].plot(time_f,signal_f)\n",
    "axarr[1].plot(time_f,mask_ext)\n",
    "axarr[2].plot(time_f,mask)\n",
    "axarr[1].set_title('pulse length = {}'.format(np.sum(mask_ext)*np.diff(time_f)[0]))\n",
    "axarr[2].set_title('length = {}'.format(np.sum(mask)*np.diff(time_f)[0]))\n",
    "plt.show()"
   ]
  },
  {
   "cell_type": "markdown",
   "metadata": {
    "collapsed": true
   },
   "source": [
    "reload(pu)\n",
    "lengths = np.array(Pool(3).map(lambda f: pu.disc_length(pu.time_vector(f),\n",
    "                                                tp.trace_extr(f),\n",
    "                                                height_th,\n",
    "                                                0,\n",
    "                                                offset\n",
    "                                               ),\n",
    "                       filelist_1ph[:sample_size]))"
   ]
  },
  {
   "cell_type": "markdown",
   "metadata": {},
   "source": [
    "%matplotlib notebook\n",
    "plt.figure()\n",
    "h = plt.hist(lengths*1e6,80);\n",
    "f,b = np.histogram(lengths*1e6,80);\n",
    "plt.axvline(2.3435)\n",
    "print 'mode', (b[:-1]+np.diff(b)[0]/2)[f==np.max(f)], 'median', np.median(lengths), 'mean', np.mean(lengths)\n",
    "plt.show()\n",
    "np.mean(lengths), (np.mean(lengths)*1e6-2.3435)*1e3, np.std(lengths)*1e9"
   ]
  },
  {
   "cell_type": "markdown",
   "metadata": {},
   "source": [
    "# Time of Arrival Distribution of Single Photons\n",
    "convoluting this with itself produces the expected g2"
   ]
  },
  {
   "cell_type": "markdown",
   "metadata": {
    "collapsed": true
   },
   "source": [
    "reload(pu)\n",
    "starts = np.array(Pool(23).map(lambda f: pu.time_init(pu.time_vector(f),\n",
    "                                                tp.trace_extr(f),\n",
    "                                                height_th,\n",
    "                                                0,\n",
    "                                                offset\n",
    "                                               ),\n",
    "                       filelist_1ph[:sample_size]))"
   ]
  },
  {
   "cell_type": "markdown",
   "metadata": {},
   "source": [
    "np.sum(starts==0) # faulty events"
   ]
  },
  {
   "cell_type": "markdown",
   "metadata": {
    "collapsed": true
   },
   "source": [
    "starts_=starts[starts!=0]-np.min(starts[starts!=0]) # remove faulty events labeled with starts = 0"
   ]
  },
  {
   "cell_type": "markdown",
   "metadata": {
    "collapsed": true
   },
   "source": [
    "np.savetxt('disc_starts_1ph.dat',starts_)"
   ]
  },
  {
   "cell_type": "markdown",
   "metadata": {},
   "source": [
    "%matplotlib notebook\n",
    "plt.figure()\n",
    "h = plt.hist(starts_*1e6,20);\n",
    "# plt.xlim(0,1)"
   ]
  },
  {
   "cell_type": "markdown",
   "metadata": {},
   "source": [
    "# Time of Arrival of Single Photons (Fitted)"
   ]
  },
  {
   "cell_type": "markdown",
   "metadata": {
    "collapsed": true
   },
   "source": [
    "if os.path.isfile(results_directory + 'ph1_model_from_cw_disc.dat'):\n",
    "    time_f, signal_f, sigma_f = np.loadtxt(results_directory + 'ph1_model_from_cw_disc.dat').T"
   ]
  },
  {
   "cell_type": "markdown",
   "metadata": {
    "collapsed": true
   },
   "source": [
    "def one_pulse(x, x_offset=0, amplitude=1):\n",
    "    \"\"\"convert the sample single photon pulse into a function\n",
    "    that can be used in a fit\n",
    "    \"\"\"\n",
    "    x = x - x_offset\n",
    "    return amplitude * np.interp(x, time_f, signal_f)\n",
    "\n",
    "fit_model = Model(one_pulse)"
   ]
  },
  {
   "cell_type": "markdown",
   "metadata": {
    "collapsed": true
   },
   "source": [
    "reload(pacw)\n",
    "toa = np.array(Pool(23).map(lambda f: pacw.time_fitted(pu.time_vector(f),\n",
    "                                                tp.trace_extr(f),\n",
    "                                                fit_model = fit_model,\n",
    "                                                high_th = height_th,\n",
    "                                                low_th = 0,\n",
    "                                                offset = offset\n",
    "                                               ),\n",
    "                       filelist_1ph[:sample_size]))"
   ]
  },
  {
   "cell_type": "markdown",
   "metadata": {
    "collapsed": true
   },
   "source": [
    "toa_ = np.array([t for t in toa if isinstance(t,np.float64)])"
   ]
  },
  {
   "cell_type": "markdown",
   "metadata": {},
   "source": [
    "%matplotlib notebook\n",
    "plt.figure()\n",
    "h = plt.hist(np.array(toa_)*1e6,200);"
   ]
  },
  {
   "cell_type": "markdown",
   "metadata": {},
   "source": [
    "print np.max(toa_)\n",
    "toa__ = toa_[toa_<9e-6]"
   ]
  },
  {
   "cell_type": "markdown",
   "metadata": {
    "collapsed": true
   },
   "source": [
    "np.savetxt('time_of_arrival_1ph.dat',toa__)"
   ]
  },
  {
   "cell_type": "markdown",
   "metadata": {},
   "source": [
    "## Area of Single photon model\n",
    "check that this does not differ significantly from g1 center - they may not matcch since g1 center is obtained from fitting a wider domain than that used for the generation of the single photon model."
   ]
  },
  {
   "cell_type": "markdown",
   "metadata": {},
   "source": [
    "np.sum(np.abs(signal_f[mask_ext]))"
   ]
  },
  {
   "cell_type": "markdown",
   "metadata": {},
   "source": [
    "# Save single photon model with uncertainty"
   ]
  },
  {
   "cell_type": "code",
   "execution_count": 10,
   "metadata": {
    "collapsed": true
   },
   "outputs": [],
   "source": [
    "np.savetxt(results_directory + 'ph1_model_from_cw_disc.dat',\n",
    "           np.array(zip(time_f, signal_f, sigma_f)),\n",
    "           delimiter = '\\t',\n",
    "           header='time\\tsignal\\tsigma')"
   ]
  },
  {
   "cell_type": "code",
   "execution_count": null,
   "metadata": {
    "collapsed": true
   },
   "outputs": [],
   "source": []
  }
 ],
 "metadata": {
  "kernelspec": {
   "display_name": "Python 2",
   "language": "python",
   "name": "python2"
  },
  "language_info": {
   "codemirror_mode": {
    "name": "ipython",
    "version": 2
   },
   "file_extension": ".py",
   "mimetype": "text/x-python",
   "name": "python",
   "nbconvert_exporter": "python",
   "pygments_lexer": "ipython2",
   "version": "2.7.12"
  }
 },
 "nbformat": 4,
 "nbformat_minor": 2
}
