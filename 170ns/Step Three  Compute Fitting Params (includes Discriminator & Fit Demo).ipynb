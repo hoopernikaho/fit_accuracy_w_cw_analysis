{
 "cells": [
  {
   "cell_type": "code",
   "execution_count": 1,
   "metadata": {
    "collapsed": true
   },
   "outputs": [],
   "source": [
    "from __future__ import division\n",
    "import tqdm\n",
    "import os\n",
    "import sys\n",
    "sys.path.append('/mnt/disk0/home/jianwei_leejw/scripts/TESPulseFitCode')\n",
    "# sys.path.append('/workspace/projects/TES/scripts')\n",
    "import numpy as np\n",
    "import matplotlib\n",
    "# matplotlib.use('nbAgg')\n",
    "%matplotlib inline\n",
    "import matplotlib.pyplot as plt\n",
    "import glob\n",
    "from lmfit import Model, Parameters\n",
    "import pymc\n",
    "# import seaborn\n",
    "from scipy.stats import norm\n",
    "from scipy.signal import savgol_filter\n",
    "from scipy.fftpack import fft, rfft, fftshift\n",
    "import pickle\n",
    "import time as datetime\n",
    "import pandas\n",
    "import pprint\n",
    "\n",
    "import heralded_pulses_analysis as hpa\n",
    "import pulse_averaging_cw as pacw\n",
    "import pulse_fit_v05 as pf\n",
    "import pulse_fit_v06 as pf6\n",
    "import single_photon_model_no_shift as noshift\n",
    "import pulse_averaging as pa\n",
    "import thres_poiss\n",
    "import pulse_discrimination as pd\n",
    "import thres\n",
    "import stats_proc as sp\n",
    "\n",
    "import pulse_utils as pu\n",
    "import discriminator as disc\n",
    "import discriminator_edges as disc_edges\n",
    "import trace_param as trcp\n",
    "import pulse_fit_powell as pfp"
   ]
  },
  {
   "cell_type": "code",
   "execution_count": 2,
   "metadata": {
    "collapsed": true
   },
   "outputs": [],
   "source": [
    "results_directory = './'"
   ]
  },
  {
   "cell_type": "markdown",
   "metadata": {},
   "source": [
    "## Import Trace Parameters\n",
    "* Height threshold\n",
    "* RMS noise"
   ]
  },
  {
   "cell_type": "code",
   "execution_count": 3,
   "metadata": {},
   "outputs": [
    {
     "name": "stdout",
     "output_type": "stream",
     "text": [
      "0.00970548312762 850\n"
     ]
    }
   ],
   "source": [
    "[height_th, offset] = np.loadtxt(results_directory + 'disc_settings.dat')\n",
    "offset = int(offset)\n",
    "print height_th, offset"
   ]
  },
  {
   "cell_type": "code",
   "execution_count": 4,
   "metadata": {},
   "outputs": [
    {
     "name": "stdout",
     "output_type": "stream",
     "text": [
      "0.00187183173093\n"
     ]
    }
   ],
   "source": [
    "sigma0 = np.loadtxt(results_directory + 'rms.dat')\n",
    "print sigma0"
   ]
  },
  {
   "cell_type": "markdown",
   "metadata": {},
   "source": [
    "# Part 1: Discriminator Demo"
   ]
  },
  {
   "cell_type": "code",
   "execution_count": 5,
   "metadata": {
    "collapsed": true
   },
   "outputs": [],
   "source": [
    "# Import interesting traces to demonstrate\n",
    "fl = np.genfromtxt('filelist_two_photon.dat', delimiter='\\n',dtype='string')"
   ]
  },
  {
   "cell_type": "code",
   "execution_count": 199,
   "metadata": {
    "collapsed": true
   },
   "outputs": [],
   "source": [
    "fname = fl[1]\n",
    "# fname = '/mnt/disk1/data/20170523_TES5_75mK_95uA_trise_115ns/doubles/C2doubles00285.trc'\n",
    "time = pu.time_vector(fname)\n",
    "signal = trcp.trace_extr(fname,height_th)"
   ]
  },
  {
   "cell_type": "code",
   "execution_count": 200,
   "metadata": {},
   "outputs": [
    {
     "data": {
      "text/plain": [
       "[<matplotlib.lines.Line2D at 0x7f069fe0b2d0>]"
      ]
     },
     "execution_count": 200,
     "metadata": {},
     "output_type": "execute_result"
    },
    {
     "data": {
      "image/png": "[encoded data removed]",
      "text/plain": [
       "<matplotlib.figure.Figure at 0x7f06a423db90>"
      ]
     },
     "metadata": {},
     "output_type": "display_data"
    }
   ],
   "source": [
    "%matplotlib inline\n",
    "mask_ext = pu.disc_peak_full(signal,height_th,0,offset)\n",
    "\n",
    "mask = pu.disc_peak_full(signal,height_th,0,0)\n",
    "mask_forward = disc.disc_peak(signal,height_th,0)\n",
    "\n",
    "f, (ax1,ax2) = plt.subplots(2, 1, sharex=True, figsize=(8,6))\n",
    "plt.tight_layout\n",
    "ax1.plot(time,signal,color='blue')\n",
    "ax1.axhline(height_th)\n",
    "ax2.plot(time,mask_forward,color='black')\n",
    "ax2.plot(time,mask,color='red',alpha=1)\n",
    "ax2.plot(time,mask_ext,color='red',alpha=1,linestyle='--')"
   ]
  },
  {
   "cell_type": "code",
   "execution_count": 201,
   "metadata": {},
   "outputs": [
    {
     "name": "stdout",
     "output_type": "stream",
     "text": [
      "0.295763902536 0.329763901574 1.3897638716 1.65976386396 3.08976382352\n"
     ]
    },
    {
     "name": "stderr",
     "output_type": "stream",
     "text": [
      "/usr/local/lib/python2.7/dist-packages/ipykernel_launcher.py:1: VisibleDeprecationWarning: boolean index did not match indexed array along dimension 0; dimension is 5002 but corresponding boolean dimension is 5001\n",
      "  \"\"\"Entry point for launching an IPython kernel.\n",
      "/usr/local/lib/python2.7/dist-packages/ipykernel_launcher.py:2: VisibleDeprecationWarning: boolean index did not match indexed array along dimension 0; dimension is 5002 but corresponding boolean dimension is 5001\n",
      "  \n",
      "/usr/local/lib/python2.7/dist-packages/ipykernel_launcher.py:3: VisibleDeprecationWarning: boolean index did not match indexed array along dimension 0; dimension is 5002 but corresponding boolean dimension is 5001\n",
      "  This is separate from the ipykernel package so we can avoid doing imports until\n"
     ]
    }
   ],
   "source": [
    "[c,d] = time[np.diff(mask)>0]*1e6\n",
    "[a,b] = time[np.diff(mask_forward)>0]*1e6\n",
    "[_,e] = time[np.diff(mask_ext)>0]*1e6\n",
    "print c,a,d,b,e\n",
    "np.savetxt('comparator_AtoE.dat',np.array([a,b,c,d,e,height_th,0,offset]),\n",
    "          header = \"\\t\".join(['a','b','c','d','e','V_high','V_low','offset']))"
   ]
  },
  {
   "cell_type": "markdown",
   "metadata": {},
   "source": [
    "## Saves discriminator demo trace"
   ]
  },
  {
   "cell_type": "code",
   "execution_count": 218,
   "metadata": {
    "collapsed": true
   },
   "outputs": [],
   "source": [
    "np.savetxt(results_directory+'demo_trace.dat', zip(time,signal))\n",
    "np.savetxt(results_directory+'mask_forward.dat', mask_forward)\n",
    "np.savetxt(results_directory+'mask.dat', zip(time,mask))\n",
    "np.savetxt(results_directory+'mask_ext.dat', zip(time,mask_ext))"
   ]
  },
  {
   "cell_type": "markdown",
   "metadata": {},
   "source": [
    "## Calculate fit parameters for amplitudes\n",
    "* Import area distribution, thresholds\n",
    "* Compute range of amplitudes to consider for fitting"
   ]
  },
  {
   "cell_type": "code",
   "execution_count": 203,
   "metadata": {
    "collapsed": true
   },
   "outputs": [],
   "source": [
    "pkl_file = open(results_directory+'area_distribution_lmfit_result.dat', 'rb')\n",
    "area_fit_result = pickle.load(pkl_file)"
   ]
  },
  {
   "cell_type": "code",
   "execution_count": 204,
   "metadata": {
    "collapsed": true
   },
   "outputs": [],
   "source": [
    "area_mus = (area_fit_result.best_values['g1_center'], area_fit_result.best_values['g2_center'])"
   ]
  },
  {
   "cell_type": "code",
   "execution_count": 205,
   "metadata": {
    "collapsed": true
   },
   "outputs": [],
   "source": [
    "area_sigmas = (area_fit_result.best_values['g1_sigma'], area_fit_result.best_values['g2_sigma'])"
   ]
  },
  {
   "cell_type": "code",
   "execution_count": 206,
   "metadata": {
    "collapsed": true
   },
   "outputs": [],
   "source": [
    "# A. use 2 sigmas away from gaussian centers to create thresholds between number distributions\n",
    "# th_areas = [(area_mus[i]-2*area_sigmas[i],area_mus[i]+2*area_sigmas[i]) \n",
    "#             for i,_ in enumerate(area_mus)]\n",
    "# sum_a = th_areas[1][0]/area_mus[0]\n",
    "# sum_b = th_areas[1][1]/area_mus[0]\n",
    "# TwoPhoton_ThresWidth = (th_areas[1][1]-th_areas[1][0])"
   ]
  },
  {
   "cell_type": "code",
   "execution_count": 207,
   "metadata": {
    "collapsed": true
   },
   "outputs": [],
   "source": [
    "# B. use minimal overlap between distributions to create thresholds between number distributions\n",
    "th_areas = np.loadtxt(results_directory+'th_areas_from_min_overlap.dat')\n",
    "[th01, th12, th23] = th_areas[:3]\n",
    "sum_a = th12/area_mus[0]\n",
    "sum_b = th23/area_mus[0]\n",
    "TwoPhoton_ThresWidth = (th23-th12)"
   ]
  },
  {
   "cell_type": "code",
   "execution_count": 208,
   "metadata": {
    "collapsed": true
   },
   "outputs": [],
   "source": [
    "# C. manual input for thresholds\n",
    "# sum_a = 7.95798869853/area_mus[0]\n",
    "# sum_b = 14/area_mus[0]\n",
    "# TwoPhoton_ThresWidth = (14-8.3)"
   ]
  },
  {
   "cell_type": "code",
   "execution_count": 209,
   "metadata": {},
   "outputs": [
    {
     "name": "stdout",
     "output_type": "stream",
     "text": [
      "1.42448103999 1.94434780135 2.37413506665\n"
     ]
    }
   ],
   "source": [
    "# define amplitude sum distribution as n=2 area distribution normalised to n=1 mean area\n",
    "sum_mu = area_mus[1]/area_mus[0]\n",
    "sum_tau = 1.0/((area_sigmas[1]/area_mus[0])**2)\n",
    "print sum_a, sum_mu, sum_b"
   ]
  },
  {
   "cell_type": "code",
   "execution_count": 210,
   "metadata": {},
   "outputs": [
    {
     "name": "stdout",
     "output_type": "stream",
     "text": [
      "-0.47482701333 0.47482701333\n"
     ]
    }
   ],
   "source": [
    "# define amplitude difference distribution as n=2 area distribution normalised to n=1 mean area, shifted to zero\n",
    "diff_tau = 1.0/((area_sigmas[1]/area_mus[0])**2)\n",
    "diff_a = -TwoPhoton_ThresWidth/2/area_mus[0]\n",
    "diff_b = TwoPhoton_ThresWidth/2/area_mus[0]\n",
    "print diff_a, diff_b"
   ]
  },
  {
   "cell_type": "code",
   "execution_count": 211,
   "metadata": {
    "collapsed": true
   },
   "outputs": [],
   "source": [
    "np.savetxt(results_directory+'sum_and_diff_fit_params.dat',\n",
    "          np.array([sum_a,sum_mu,sum_b,sum_tau,diff_a, diff_b,diff_tau]).reshape(1,7),\n",
    "           delimiter=\"\\t\",\n",
    "          header = \"\\t\".join(['sum_a', 'sum_mu', 'sum_b','sum_tau','diff_a', 'diff_b','diff_tau'])\n",
    "          )"
   ]
  },
  {
   "cell_type": "markdown",
   "metadata": {},
   "source": [
    "# Part 2: Lmfit Demo"
   ]
  },
  {
   "cell_type": "code",
   "execution_count": 212,
   "metadata": {},
   "outputs": [
    {
     "name": "stdout",
     "output_type": "stream",
     "text": [
      "[  1.42448104   1.9443478    2.37413507  59.26165349  -0.47482701\n",
      "   0.47482701  59.26165349]\n"
     ]
    }
   ],
   "source": [
    "# Loads Pulse Parameters\n",
    "pulse_params =np.genfromtxt(results_directory + 'sum_and_diff_fit_params.dat',\n",
    "                            delimiter=\"\\t\",\n",
    "                            )\n",
    "print pulse_params"
   ]
  },
  {
   "cell_type": "markdown",
   "metadata": {},
   "source": [
    "## Create 2-photon Model"
   ]
  },
  {
   "cell_type": "code",
   "execution_count": 213,
   "metadata": {
    "collapsed": true
   },
   "outputs": [],
   "source": [
    "ph1_model = np.genfromtxt(results_directory + 'ph1_model_from_cw_disc.dat',delimiter='\\t',names=True)\n",
    "time_f = ph1_model['time']\n",
    "signal_f = ph1_model['signal']\n",
    "sigma_f = ph1_model['sigma']\n",
    "def one_pulse(x, x_offset=0, amplitude=1, time_f=time_f, signal_f=signal_f):\n",
    "    \"\"\"convert the sample single photon pulse into a function\n",
    "    that can be used in a fit\n",
    "    \"\"\"\n",
    "    x = x - x_offset\n",
    "    return amplitude * np.interp(x, time_f, signal_f)\n",
    "two_pulse_fit = Model(one_pulse, prefix='one_') + \\\n",
    "        Model(one_pulse, prefix='two_')"
   ]
  },
  {
   "cell_type": "code",
   "execution_count": 214,
   "metadata": {
    "collapsed": true
   },
   "outputs": [],
   "source": [
    "# save model\n",
    "fp = open(results_directory + 'two_pulse_fit_model.dat','wb')\n",
    "pickle.dump(two_pulse_fit,fp)\n",
    "fp.close()"
   ]
  },
  {
   "cell_type": "markdown",
   "metadata": {},
   "source": [
    "## Perform Fit"
   ]
  },
  {
   "cell_type": "code",
   "execution_count": 215,
   "metadata": {},
   "outputs": [
    {
     "name": "stdout",
     "output_type": "stream",
     "text": [
      "[[Model]]\n",
      "    (Model(one_pulse, prefix='one_') + Model(one_pulse, prefix='two_'))\n",
      "[[Variables]]\n",
      "    one_x_offset:      3.2150e-07 (init= 2.957639e-07)\n",
      "    two_x_offset:      4.9956e-07 (init= 8.897639e-07)\n",
      "    sum_amplitudes:    1.99983774 (init= 1.963791)\n",
      "    diff_amplitudes:   0.23264174 (init= 0)\n",
      "    one_amplitude:     1.11623974  == '(sum_amplitudes + diff_amplitudes)/2'\n",
      "    two_amplitude:     0.88359799  == '(sum_amplitudes - diff_amplitudes)/2'\n",
      "\n"
     ]
    }
   ],
   "source": [
    "# Lmfit\n",
    "reload(pfp)\n",
    "r = pfp.fit_two_cw(time,signal,\n",
    "              two_pulse_fit,\n",
    "              pulse_params,\n",
    "              height_th,\n",
    "              sigma0)\n",
    "print r.fit_report()"
   ]
  },
  {
   "cell_type": "code",
   "execution_count": 217,
   "metadata": {},
   "outputs": [
    {
     "name": "stdout",
     "output_type": "stream",
     "text": [
      "1.78058330235e-07\n",
      "1.02218910594\n"
     ]
    },
    {
     "data": {
      "image/png": "[encoded data removed]",
      "text/plain": [
       "<matplotlib.figure.Figure at 0x7f069fd97850>"
      ]
     },
     "metadata": {},
     "output_type": "display_data"
    }
   ],
   "source": [
    "# Plot fit and component\n",
    "# r.plot_fit()\n",
    "# print r.components\n",
    "plt.figure(figsize=(20,5))\n",
    "plt.plot(time,signal,alpha=0.5)\n",
    "plt.plot(time,r.best_fit)\n",
    "comps = r.eval_components(x=time)\n",
    "plt.plot(time, comps['one_'])\n",
    "plt.plot(time, comps['two_'])\n",
    "print r.best_values['two_x_offset']-r.best_values['one_x_offset']\n",
    "plt.legend()\n",
    "# plt.xlim(0,1e-6)\n",
    "print float(r.redchi)"
   ]
  },
  {
   "cell_type": "code",
   "execution_count": 53,
   "metadata": {
    "collapsed": true
   },
   "outputs": [],
   "source": [
    "np.savetxt('lmfit_component_one.dat',comps['one_'])\n",
    "np.savetxt('lmfit_component_two.dat',comps['two_'])\n",
    "with open(\"lmfit_component_readme.txt\", \"w\") as text_file:\n",
    "    text_file.write(\"{}\".format(r.fit_report()))"
   ]
  },
  {
   "cell_type": "code",
   "execution_count": 54,
   "metadata": {
    "collapsed": true
   },
   "outputs": [],
   "source": [
    "lmfit_raw_data_and_components = np.array([time*1e6,\n",
    "                                          signal*1e3,\n",
    "                                          comps['one_']*1e3,\n",
    "                                          comps['two_']*1e3,\n",
    "                                          (comps['one_']+comps['two_'])*1e3\n",
    "                                         ]).T"
   ]
  },
  {
   "cell_type": "code",
   "execution_count": null,
   "metadata": {
    "collapsed": true
   },
   "outputs": [],
   "source": []
  },
  {
   "cell_type": "code",
   "execution_count": null,
   "metadata": {
    "collapsed": true
   },
   "outputs": [],
   "source": []
  }
 ],
 "metadata": {
  "kernelspec": {
   "display_name": "Python 2",
   "language": "python",
   "name": "python2"
  },
  "language_info": {
   "codemirror_mode": {
    "name": "ipython",
    "version": 2
   },
   "file_extension": ".py",
   "mimetype": "text/x-python",
   "name": "python",
   "nbconvert_exporter": "python",
   "pygments_lexer": "ipython2",
   "version": "2.7.12"
  }
 },
 "nbformat": 4,
 "nbformat_minor": 2
}
