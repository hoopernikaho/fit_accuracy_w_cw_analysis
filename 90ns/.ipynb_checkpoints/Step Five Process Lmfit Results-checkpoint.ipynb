{
 "cells": [
  {
   "cell_type": "code",
   "execution_count": 2,
   "metadata": {
    "collapsed": true
   },
   "outputs": [],
   "source": [
    "from __future__ import division\n",
    "import pandas\n",
    "import numpy as np\n",
    "import matplotlib\n",
    "import matplotlib.pyplot as plt\n",
    "import tqdm\n",
    "# import seaborn as sns\n",
    "# sns.set_style(\"whitegrid\", {'axes.grid' : False})\n",
    "import pyximport\n",
    "pyximport.install()\n",
    "\n",
    "import sys, os\n",
    "sys.path.append('/mnt/disk0/home/jianwei_leejw/scripts/TESPulseFitCode')\n",
    "import pulse_utils as pu\n",
    "import trace_param as trcp\n",
    "import pulse_fit_powell as pfp\n",
    "import pickle\n",
    "import heralded_pulses_analysis as hpa\n",
    "from scipy.signal import convolve"
   ]
  },
  {
   "cell_type": "code",
   "execution_count": 3,
   "metadata": {
    "collapsed": true
   },
   "outputs": [],
   "source": [
    "results_directory='./'"
   ]
  },
  {
   "cell_type": "code",
   "execution_count": 4,
   "metadata": {
    "collapsed": true
   },
   "outputs": [],
   "source": [
    "data = pandas.read_csv(results_directory+\\\n",
    "                'results.csv'\n",
    "                      )\n",
    "try:\n",
    "    df = data[data['Unnamed: 0']!=np.nan]\n",
    "except:\n",
    "    df = data\n",
    "df = df.drop_duplicates()\n",
    "# print df.dtypes\n",
    "# print df[0:1]\n",
    "# df.fname = df.fname.astype(str)\n",
    "# df.set_index('fname')\n",
    "# print len(df)\n",
    "# print df[0:2]"
   ]
  },
  {
   "cell_type": "markdown",
   "metadata": {},
   "source": [
    "## Merging of fit and area data (optional)"
   ]
  },
  {
   "cell_type": "code",
   "execution_count": 5,
   "metadata": {
    "collapsed": true
   },
   "outputs": [],
   "source": [
    "trace_parameters = np.genfromtxt('trace_params.dat',\n",
    "                    dtype=[('fname', 'U256'),\n",
    "                           ('numedges', 'int8'),\n",
    "                        ('area_win', 'float64'),\n",
    "                        ('area_win_abs', 'float64'),\n",
    "                       ('height', 'float64'),\n",
    "                       ('rms', 'float64')\n",
    "                       ])"
   ]
  },
  {
   "cell_type": "code",
   "execution_count": 6,
   "metadata": {
    "collapsed": true
   },
   "outputs": [],
   "source": [
    "df_params = pandas.DataFrame(trace_parameters)\n",
    "df_params.fname = df_params.fname.astype(str)\n",
    "df_params.set_index('fname');\n",
    "# print df_params.dtypes\n",
    "# print df_params['fname'][0:1]"
   ]
  },
  {
   "cell_type": "code",
   "execution_count": 7,
   "metadata": {
    "collapsed": true
   },
   "outputs": [],
   "source": [
    "df = df.merge(df_params)\n",
    "# print df['fname'][0]\n",
    "# print df_params['fname'][1]"
   ]
  },
  {
   "cell_type": "code",
   "execution_count": 8,
   "metadata": {
    "collapsed": true
   },
   "outputs": [],
   "source": [
    "df.to_csv('results_with_params',header=False)"
   ]
  },
  {
   "cell_type": "code",
   "execution_count": 9,
   "metadata": {},
   "outputs": [
    {
     "name": "stdout",
     "output_type": "stream",
     "text": [
      "Unnamed: 0                int64\n",
      "fname                    object\n",
      "one_x_offset_init       float64\n",
      "one_amplitude_init      float64\n",
      "two_amplitude_init      float64\n",
      "two_x_offset_init       float64\n",
      "one_x_offset_fitted     float64\n",
      "one_amplitude_fitted    float64\n",
      "two_amplitude_fitted    float64\n",
      "two_x_offset_fitted     float64\n",
      "redchi                  float64\n",
      "numedges                   int8\n",
      "area_win                float64\n",
      "area_win_abs            float64\n",
      "height                  float64\n",
      "rms                     float64\n",
      "dtype: object\n",
      "7160\n"
     ]
    }
   ],
   "source": [
    "print df.dtypes\n",
    "print len(df)"
   ]
  },
  {
   "cell_type": "code",
   "execution_count": 10,
   "metadata": {
    "collapsed": true
   },
   "outputs": [],
   "source": [
    "def model(numdata, g2_bins, lims, plot=False):\n",
    "    \"\"\"\n",
    "    Free running coherent state g2 (expected)\n",
    "        Fixed Trace length T of bins\n",
    "        g2 length g2_T of g2_bins\n",
    "    \"\"\"\n",
    "    g2_T = np.diff(lims)*1e-9 \n",
    "    T = (10-2.252)*1e-6\n",
    "#     T = (10-2.3435)*1e-6\n",
    "#     T = (10-2.31565473451)*1e-6\n",
    "#     T = 6.539e-6\n",
    "    dT = g2_T/g2_bins #g2 scope / bins in g2 scope\n",
    "    bins = T/dT #bins in a trace\n",
    "    print dT\n",
    "    print bins\n",
    "    prob = lambda tau,bins: 2/(bins)**2*(T-tau)/(dT)\n",
    "    taus = np.linspace(dT/2,g2_T-dT/2,g2_bins)#g2 scope, bins in g2 scope\n",
    "    if plot:\n",
    "        plt.scatter(taus*1e9,\n",
    "                    prob(taus,bins)*len(df) #9940\n",
    "#                     'o', \n",
    "#                     linewidth=2, \n",
    "#                     color='black'\n",
    "                   )\n",
    "    return prob(taus,bins)*len(df)"
   ]
  },
  {
   "cell_type": "code",
   "execution_count": 11,
   "metadata": {
    "collapsed": true
   },
   "outputs": [],
   "source": [
    "def hist(data,numbins,lims, label='', plot=True, alpha=.5):\n",
    "    \"\"\"Creates and Plots numpy histogram, removing the last bin\"\"\" \n",
    "    y, binEdges = np.histogram(data,numbins,range=(lims))\n",
    "    if plot:\n",
    "        y_err = np.sqrt(y)\n",
    "        step = binEdges[1]-binEdges[0]\n",
    "        _bins = binEdges[:-1]+step/2\n",
    "        plt.errorbar(_bins,y,yerr=y_err,fmt='.',color='blue', alpha=alpha)\n",
    "        plt.xlim(lims)\n",
    "    return y, _bins"
   ]
  },
  {
   "cell_type": "code",
   "execution_count": 12,
   "metadata": {
    "collapsed": true
   },
   "outputs": [],
   "source": [
    "bin_duration = 10 # ns\n",
    "g2_duration = 10000\n",
    "numbins = int(g2_duration/bin_duration)\n",
    "lims = [0,g2_duration] #units ns"
   ]
  },
  {
   "cell_type": "code",
   "execution_count": 13,
   "metadata": {
    "collapsed": true
   },
   "outputs": [],
   "source": [
    "# df['tau'] = np.abs(df['two_x_offset_init']-df['one_x_offset_init'])*1e9\n",
    "df['tau'] = np.abs(df['two_x_offset_fitted']-df['one_x_offset_fitted'])*1e9\n",
    "df['amp_min']=df[['one_amplitude_fitted','two_amplitude_fitted']].min(axis=1)\n",
    "df['amp_max']=df[['one_amplitude_fitted','two_amplitude_fitted']].max(axis=1)"
   ]
  },
  {
   "cell_type": "code",
   "execution_count": 14,
   "metadata": {
    "collapsed": true
   },
   "outputs": [],
   "source": [
    "tau = df['tau']"
   ]
  },
  {
   "cell_type": "code",
   "execution_count": 15,
   "metadata": {
    "scrolled": true
   },
   "outputs": [
    {
     "data": {
      "image/png": "[encoded data removed]",
      "text/plain": [
       "<matplotlib.figure.Figure at 0x7f9673fad750>"
      ]
     },
     "metadata": {},
     "output_type": "display_data"
    }
   ],
   "source": [
    "%matplotlib inline\n",
    "plt.figure(figsize=(15,5))\n",
    "y, bins = hist(tau,numbins=numbins,lims=lims, plot=True, alpha=1) # raw\n",
    "plt.xlim(0,300)\n",
    "plt.xlabel('pulse separation (ns)')\n",
    "plt.ylabel('counts')\n",
    "plt.show()"
   ]
  },
  {
   "cell_type": "code",
   "execution_count": 16,
   "metadata": {
    "collapsed": true
   },
   "outputs": [],
   "source": [
    "np.savetxt('tau_90ns.dat',tau)"
   ]
  },
  {
   "cell_type": "code",
   "execution_count": 24,
   "metadata": {},
   "outputs": [],
   "source": [
    "np.savetxt('g2_90ns.dat',zip(bins,y),header='tau(ns)\\tcounts',fmt=('%i','%i'))"
   ]
  },
  {
   "cell_type": "code",
   "execution_count": null,
   "metadata": {
    "collapsed": true
   },
   "outputs": [],
   "source": []
  }
 ],
 "metadata": {
  "kernelspec": {
   "display_name": "Python 2",
   "language": "python",
   "name": "python2"
  },
  "language_info": {
   "codemirror_mode": {
    "name": "ipython",
    "version": 2
   },
   "file_extension": ".py",
   "mimetype": "text/x-python",
   "name": "python",
   "nbconvert_exporter": "python",
   "pygments_lexer": "ipython2",
   "version": "2.7.12"
  }
 },
 "nbformat": 4,
 "nbformat_minor": 2
}
