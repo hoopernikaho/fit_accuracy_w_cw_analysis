{
 "cells": [
  {
   "cell_type": "code",
   "execution_count": 1,
   "metadata": {
    "collapsed": true
   },
   "outputs": [],
   "source": [
    "from __future__ import division\n",
    "import tqdm\n",
    "import os\n",
    "import sys\n",
    "sys.path.append('/mnt/disk0/home/jianwei_leejw/scripts/TESPulseFitCode')\n",
    "# sys.path.append('/workspace/projects/TES/scripts')\n",
    "import numpy as np\n",
    "import matplotlib\n",
    "# matplotlib.use('nbAgg')\n",
    "%matplotlib inline\n",
    "import matplotlib.pyplot as plt\n",
    "import glob\n",
    "from lmfit import Model, Parameters\n",
    "# import seaborn\n",
    "import pickle\n",
    "\n",
    "import pulse_utils as pu\n",
    "import discriminator as disc\n",
    "import discriminator_edges as disc_edges\n",
    "import trace_param as trcp\n",
    "import pulse_fit_powell as pfp\n",
    "import pulse_fit_bulk_process as pfbulk\n",
    "import heralded_pulses_analysis as hpa"
   ]
  },
  {
   "cell_type": "code",
   "execution_count": 2,
   "metadata": {
    "collapsed": true
   },
   "outputs": [],
   "source": [
    "results_directory = './'"
   ]
  },
  {
   "cell_type": "code",
   "execution_count": 3,
   "metadata": {},
   "outputs": [
    {
     "name": "stdout",
     "output_type": "stream",
     "text": [
      "0.010157043133 850\n"
     ]
    }
   ],
   "source": [
    "# Loads Trace Parameters\n",
    "[height_th, offset] = np.loadtxt(results_directory + 'disc_settings.dat')\n",
    "offset = int(offset)\n",
    "print height_th, offset"
   ]
  },
  {
   "cell_type": "code",
   "execution_count": 4,
   "metadata": {},
   "outputs": [
    {
     "name": "stdout",
     "output_type": "stream",
     "text": [
      "0.00188088880294\n"
     ]
    }
   ],
   "source": [
    "sigma0 = np.loadtxt(results_directory + 'rms.dat')\n",
    "print sigma0"
   ]
  },
  {
   "cell_type": "code",
   "execution_count": 5,
   "metadata": {},
   "outputs": [
    {
     "name": "stdout",
     "output_type": "stream",
     "text": [
      "[  1.3980774    1.93642925   2.37918434  69.85879586  -0.49055347\n",
      "   0.49055347  69.85879586]\n"
     ]
    }
   ],
   "source": [
    "# Loads Pulse (fitting) Parameters\n",
    "pulse_params =np.genfromtxt(results_directory + 'sum_and_diff_fit_params.dat',\n",
    "                            delimiter=\"\\t\",\n",
    "                            )\n",
    "print pulse_params"
   ]
  },
  {
   "cell_type": "code",
   "execution_count": 6,
   "metadata": {
    "collapsed": true
   },
   "outputs": [],
   "source": [
    "# Loads Two Photon Model\n",
    "pkl_file = open(results_directory + 'two_pulse_fit_model.dat', 'rb')\n",
    "two_pulse_fit = pickle.load(pkl_file)"
   ]
  },
  {
   "cell_type": "code",
   "execution_count": 7,
   "metadata": {},
   "outputs": [
    {
     "name": "stdout",
     "output_type": "stream",
     "text": [
      "7160\n"
     ]
    }
   ],
   "source": [
    "# imports Two Photon filelist\n",
    "tasks = np.genfromtxt(results_directory + 'filelist_two_photon.dat', delimiter=',',dtype='string')\n",
    "print len(tasks)"
   ]
  },
  {
   "cell_type": "code",
   "execution_count": 8,
   "metadata": {},
   "outputs": [
    {
     "name": "stdout",
     "output_type": "stream",
     "text": [
      "[[Model]]\n",
      "    (Model(one_pulse, prefix='one_') + Model(one_pulse, prefix='two_'))\n",
      "[[Variables]]\n",
      "    one_x_offset:      3.1404e-07 (init= 2.606347e-07)\n",
      "    two_x_offset:      3.9406e-07 (init= 5.446346e-07)\n",
      "    sum_amplitudes:    1.87371563 (init= 1.955794)\n",
      "    diff_amplitudes:   0.03854416 (init= 0)\n",
      "    one_amplitude:     0.95612989  == '(sum_amplitudes + diff_amplitudes)/2'\n",
      "    two_amplitude:     0.91758573  == '(sum_amplitudes - diff_amplitudes)/2'\n",
      "\n"
     ]
    },
    {
     "data": {
      "text/plain": [
       "(-0.0037617776058802236, 0.046906917437630265)"
      ]
     },
     "execution_count": 8,
     "metadata": {},
     "output_type": "execute_result"
    },
    {
     "data": {
      "image/png": "[encoded data removed]",
      "text/plain": [
       "<matplotlib.figure.Figure at 0x7f9881bee310>"
      ]
     },
     "metadata": {},
     "output_type": "display_data"
    }
   ],
   "source": [
    "# tests fit for one interesting plot\n",
    "reload(pfp)\n",
    "fl = np.genfromtxt('filelist_two_photon.dat', delimiter='\\n',dtype='string')\n",
    "# print np.argwhere(tasks==tasks[2])\n",
    "fname = fl[3]\n",
    "time = pu.time_vector(fname)\n",
    "signal = trcp.trace_extr(fname,height_th)\n",
    "r = pfp.fit_two_cw(time,signal,\n",
    "              two_pulse_fit,\n",
    "              pulse_params,\n",
    "              height_th,\n",
    "              sigma0)\n",
    "r.plot_fit(data_kws={'marker':'.','alpha':0.5})\n",
    "print r.fit_report()\n",
    "plt.ylim(-2*sigma0,np.max(signal)*1.2)"
   ]
  },
  {
   "cell_type": "code",
   "execution_count": 9,
   "metadata": {},
   "outputs": [
    {
     "data": {
      "text/plain": [
       "array([ 0.0002811, -0.0001149, -0.0005469, ...,  0.0002811,  0.0001731,\n",
       "        0.0003531])"
      ]
     },
     "execution_count": 9,
     "metadata": {},
     "output_type": "execute_result"
    }
   ],
   "source": [
    "reload(trcp)\n",
    "trcp.trace_extr(fname)"
   ]
  },
  {
   "cell_type": "code",
   "execution_count": 10,
   "metadata": {
    "collapsed": true
   },
   "outputs": [],
   "source": [
    "# lmfit (multiprocess) traces\n",
    "cores = 23\n",
    "reload(pfbulk)\n",
    "reload(pfp)\n",
    "pfbulk.run_fit_two_poolable(\n",
    "    results_directory+\\\n",
    "    'results.csv',\n",
    "    cores,\n",
    "    tasks,\n",
    "    two_pulse_fit, pulse_params, height_th, sigma0)"
   ]
  },
  {
   "cell_type": "code",
   "execution_count": null,
   "metadata": {
    "collapsed": true
   },
   "outputs": [],
   "source": []
  }
 ],
 "metadata": {
  "kernelspec": {
   "display_name": "Python 2",
   "language": "python",
   "name": "python2"
  },
  "language_info": {
   "codemirror_mode": {
    "name": "ipython",
    "version": 2
   },
   "file_extension": ".py",
   "mimetype": "text/x-python",
   "name": "python",
   "nbconvert_exporter": "python",
   "pygments_lexer": "ipython2",
   "version": "2.7.12"
  }
 },
 "nbformat": 4,
 "nbformat_minor": 2
}
