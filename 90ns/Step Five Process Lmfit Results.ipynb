{
 "cells": [
  {
   "cell_type": "code",
   "execution_count": 3,
   "metadata": {
    "collapsed": true
   },
   "outputs": [],
   "source": [
    "from __future__ import division\n",
    "import pandas\n",
    "import numpy as np\n",
    "import matplotlib\n",
    "import matplotlib.pyplot as plt\n",
    "import tqdm\n",
    "# import seaborn as sns\n",
    "# sns.set_style(\"whitegrid\", {'axes.grid' : False})\n",
    "import pyximport\n",
    "pyximport.install()\n",
    "\n",
    "import sys, os\n",
    "sys.path.append('/mnt/disk0/home/jianwei_leejw/scripts/TESPulseFitCode')\n",
    "import pulse_utils as pu\n",
    "import trace_param as trcp\n",
    "import pulse_fit_powell as pfp\n",
    "import pickle\n",
    "import heralded_pulses_analysis as hpa\n",
    "from scipy.signal import convolve"
   ]
  },
  {
   "cell_type": "code",
   "execution_count": 4,
   "metadata": {
    "collapsed": true
   },
   "outputs": [],
   "source": [
    "results_directory='./'"
   ]
  },
  {
   "cell_type": "code",
   "execution_count": 5,
   "metadata": {
    "collapsed": true
   },
   "outputs": [],
   "source": [
    "data = pandas.read_csv(results_directory+\\\n",
    "                'results.csv'\n",
    "                      )\n",
    "try:\n",
    "    df = data[data['Unnamed: 0']!=np.nan]\n",
    "except:\n",
    "    df = data\n",
    "df = df.drop_duplicates()\n",
    "# print df.dtypes\n",
    "# print df[0:1]\n",
    "# df.fname = df.fname.astype(str)\n",
    "# df.set_index('fname')\n",
    "# print len(df)\n",
    "# print df[0:2]"
   ]
  },
  {
   "cell_type": "markdown",
   "metadata": {},
   "source": [
    "## Merging of fit and area data (optional)"
   ]
  },
  {
   "cell_type": "code",
   "execution_count": 6,
   "metadata": {
    "collapsed": true
   },
   "outputs": [],
   "source": [
    "trace_parameters = np.genfromtxt('trace_params.dat',\n",
    "                    dtype=[('fname', 'U256'),\n",
    "                           ('numedges', 'int8'),\n",
    "                        ('area_win', 'float64'),\n",
    "                        ('area_win_abs', 'float64'),\n",
    "                       ('height', 'float64'),\n",
    "                       ('rms', 'float64')\n",
    "                       ])"
   ]
  },
  {
   "cell_type": "code",
   "execution_count": 7,
   "metadata": {
    "collapsed": true
   },
   "outputs": [],
   "source": [
    "df_params = pandas.DataFrame(trace_parameters)\n",
    "df_params.fname = df_params.fname.astype(str)\n",
    "df_params.set_index('fname');\n",
    "# print df_params.dtypes\n",
    "# print df_params['fname'][0:1]"
   ]
  },
  {
   "cell_type": "code",
   "execution_count": 8,
   "metadata": {
    "collapsed": true
   },
   "outputs": [],
   "source": [
    "df = df.merge(df_params)\n",
    "# print df['fname'][0]\n",
    "# print df_params['fname'][1]"
   ]
  },
  {
   "cell_type": "code",
   "execution_count": 9,
   "metadata": {
    "collapsed": true
   },
   "outputs": [],
   "source": [
    "df.to_csv('results_with_params',header=False)"
   ]
  },
  {
   "cell_type": "code",
   "execution_count": 10,
   "metadata": {},
   "outputs": [
    {
     "name": "stdout",
     "output_type": "stream",
     "text": [
      "Unnamed: 0                int64\n",
      "fname                    object\n",
      "one_x_offset_init       float64\n",
      "one_amplitude_init      float64\n",
      "two_amplitude_init      float64\n",
      "two_x_offset_init       float64\n",
      "one_x_offset_fitted     float64\n",
      "one_amplitude_fitted    float64\n",
      "two_amplitude_fitted    float64\n",
      "two_x_offset_fitted     float64\n",
      "redchi                  float64\n",
      "numedges                   int8\n",
      "area_win                float64\n",
      "area_win_abs            float64\n",
      "height                  float64\n",
      "rms                     float64\n",
      "dtype: object\n",
      "7160\n"
     ]
    }
   ],
   "source": [
    "print df.dtypes\n",
    "print len(df)"
   ]
  },
  {
   "cell_type": "code",
   "execution_count": 11,
   "metadata": {
    "collapsed": true
   },
   "outputs": [],
   "source": [
    "def hist(data,numbins,lims, label='', plot=True, alpha=.5):\n",
    "    \"\"\"Creates and Plots numpy histogram, removing the last bin\"\"\" \n",
    "    y, binEdges = np.histogram(data,numbins,range=(lims))\n",
    "    if plot:\n",
    "        y_err = np.sqrt(y)\n",
    "        step = binEdges[1]-binEdges[0]\n",
    "        _bins = binEdges[:-1]+step/2\n",
    "        plt.errorbar(_bins,y,yerr=y_err,fmt='.',color='blue', alpha=alpha)\n",
    "        plt.xlim(lims)\n",
    "    return y, _bins"
   ]
  },
  {
   "cell_type": "code",
   "execution_count": 33,
   "metadata": {
    "collapsed": true
   },
   "outputs": [],
   "source": [
    "bin_duration = 5 # ns\n",
    "g2_duration = 10000\n",
    "numbins = int(g2_duration/bin_duration)\n",
    "lims = [0,g2_duration] #units ns"
   ]
  },
  {
   "cell_type": "code",
   "execution_count": 34,
   "metadata": {
    "collapsed": true
   },
   "outputs": [],
   "source": [
    "# df['tau'] = np.abs(df['two_x_offset_init']-df['one_x_offset_init'])*1e9\n",
    "df['tau'] = np.abs(df['two_x_offset_fitted']-df['one_x_offset_fitted'])*1e9"
   ]
  },
  {
   "cell_type": "code",
   "execution_count": 35,
   "metadata": {
    "collapsed": true
   },
   "outputs": [],
   "source": [
    "tau = df['tau']"
   ]
  },
  {
   "cell_type": "code",
   "execution_count": 36,
   "metadata": {
    "scrolled": true
   },
   "outputs": [
    {
     "data": {
      "image/png": "[encoded data removed]",
      "text/plain": [
       "<matplotlib.figure.Figure at 0x7f1794559a50>"
      ]
     },
     "metadata": {},
     "output_type": "display_data"
    }
   ],
   "source": [
    "%matplotlib inline\n",
    "plt.figure(figsize=(15,5))\n",
    "y, bins = hist(tau,numbins=numbins,lims=lims, plot=True, alpha=1) # raw\n",
    "plt.xlim(0,300)\n",
    "plt.xlabel('pulse separation (ns)')\n",
    "plt.ylabel('counts')\n",
    "plt.show()"
   ]
  },
  {
   "cell_type": "code",
   "execution_count": 37,
   "metadata": {
    "collapsed": true
   },
   "outputs": [],
   "source": [
    "np.savetxt('tau_90ns.dat',tau)"
   ]
  },
  {
   "cell_type": "code",
   "execution_count": 38,
   "metadata": {
    "collapsed": true
   },
   "outputs": [],
   "source": [
    "np.savetxt('g2_90ns.dat',zip(bins,y),header='tau(ns)\\tcounts',fmt=('%i','%i'))"
   ]
  },
  {
   "cell_type": "code",
   "execution_count": 1,
   "metadata": {
    "collapsed": true
   },
   "outputs": [],
   "source": [
    "# Fit 2 gaussians"
   ]
  },
  {
   "cell_type": "code",
   "execution_count": 26,
   "metadata": {},
   "outputs": [
    {
     "data": {
      "image/png": "[encoded data removed]",
      "text/plain": [
       "<matplotlib.figure.Figure at 0x7f1794866c50>"
      ]
     },
     "metadata": {},
     "output_type": "display_data"
    }
   ],
   "source": [
    "sgntau = (df['two_x_offset_fitted']-df['one_x_offset_fitted'])*1e9\n",
    "y, bins = hist(sgntau,numbins=2000,lims=lims, plot=True, alpha=1) # raw"
   ]
  },
  {
   "cell_type": "code",
   "execution_count": 27,
   "metadata": {},
   "outputs": [],
   "source": [
    "# assume and fit to 3 Gaussian model\n",
    "from lmfit import Parameters\n",
    "from lmfit.models import GaussianModel\n",
    "\n",
    "peaks_pos = [-100, 0, 100]\n",
    "peak_height = [50, 250, 150]\n",
    "sigma = [30,5,30]\n",
    "\n",
    "fit_model = np.sum([GaussianModel(prefix='g{}_'.format(k))\n",
    "                    for k, _\n",
    "                    in enumerate(peaks_pos)])\n",
    "p = Parameters()\n",
    "\n",
    "# centers\n",
    "[p.add('g{}_center'.format(k),\n",
    "       j,\n",
    "       # expr='g{}_center + Delta_E'.format(k + 1)\n",
    "       )\n",
    " for k, j\n",
    " in enumerate(peaks_pos)]\n",
    "\n",
    "# amplitudes\n",
    "[p.add('g{}_amplitude'.format(k),\n",
    "       j*sigma[k])\n",
    " for k, j\n",
    " in enumerate(peak_height)]\n",
    "\n",
    "# fixed width\n",
    "[p.add('g{}_sigma'.format(k),\n",
    "       j,\n",
    "       min=0\n",
    "       )\n",
    " for k, j\n",
    " in enumerate(sigma)]\n",
    "\n",
    "err = np.sqrt(y[y>0])\n",
    "\n",
    "result = fit_model.fit(y[y>0],\n",
    "                       x = bins[y>0],\n",
    "                       params = p,\n",
    "                       weights = 1/err,\n",
    "#                        method='nelder'\n",
    "                       )"
   ]
  },
  {
   "cell_type": "code",
   "execution_count": 31,
   "metadata": {},
   "outputs": [
    {
     "name": "stdout",
     "output_type": "stream",
     "text": [
      "[[Model]]\n",
      "    ((Model(gaussian, prefix='g0_') + Model(gaussian, prefix='g1_')) + Model(gaussian, prefix='g2_'))\n",
      "[[Variables]]\n",
      "    g0_center:     -8.1627e+06 +/- 8.23e+12 (100778295.99%) (init=-100)\n",
      "    g1_center:     -297.664942 +/- 479.4584 (161.07%) (init= 0)\n",
      "    g2_center:      98.1262094 +/- 1.368192 (1.39%) (init= 100)\n",
      "    g0_amplitude:   4.7871e+08 +/- 2.32e+15 (485111242.02%) (init= 1500)\n",
      "    g1_amplitude:   1.6050e+06 +/- 1.07e+07 (667.18%) (init= 1250)\n",
      "    g2_amplitude:   21145.3343 +/- 1.31e+03 (6.22%) (init= 4500)\n",
      "    g0_sigma:       2.8121e+06 +/- 1.41e+12 (50256086.92%) (init= 30)\n",
      "    g1_sigma:       119.626642 +/- 79.20415 (66.21%) (init= 5)\n",
      "    g2_sigma:       25.0709194 +/- 1.226013 (4.89%) (init= 30)\n",
      "[[Correlations]] (unreported correlations are <  0.100)\n",
      "    C(g0_center, g0_amplitude)   = -1.000 \n",
      "    C(g0_center, g0_sigma)       = -1.000 \n",
      "    C(g0_amplitude, g0_sigma)    =  1.000 \n",
      "    C(g1_center, g1_amplitude)   = -0.997 \n",
      "    C(g1_center, g1_sigma)       = -0.990 \n",
      "    C(g1_amplitude, g1_sigma)    =  0.975 \n",
      "    C(g2_amplitude, g2_sigma)    =  0.674 \n",
      "    C(g2_center, g2_sigma)       = -0.564 \n",
      "    C(g2_center, g2_amplitude)   = -0.545 \n",
      "    C(g2_center, g1_amplitude)   = -0.537 \n",
      "    C(g1_center, g2_center)      =  0.510 \n",
      "    C(g2_center, g1_sigma)       = -0.450 \n",
      "    C(g1_amplitude, g2_amplitude)  =  0.336 \n",
      "    C(g1_center, g2_amplitude)   = -0.277 \n",
      "    C(g1_amplitude, g2_sigma)    =  0.267 \n",
      "    C(g1_center, g2_sigma)       = -0.215 \n",
      "    C(g0_amplitude, g2_sigma)    =  0.186 \n",
      "    C(g0_center, g2_sigma)       = -0.186 \n",
      "    C(g0_sigma, g2_sigma)        =  0.186 \n",
      "    C(g0_amplitude, g1_sigma)    = -0.185 \n",
      "    C(g0_center, g1_sigma)       =  0.185 \n",
      "    C(g0_sigma, g1_sigma)        = -0.185 \n",
      "    C(g2_amplitude, g1_sigma)    =  0.169 \n",
      "    C(g1_center, g0_amplitude)   =  0.144 \n",
      "    C(g0_center, g1_center)      = -0.144 \n",
      "    C(g1_center, g0_sigma)       =  0.144 \n",
      "    C(g1_sigma, g2_sigma)        =  0.119 \n",
      "    C(g0_amplitude, g1_amplitude)  = -0.117 \n",
      "    C(g0_center, g1_amplitude)   =  0.117 \n",
      "    C(g1_amplitude, g0_sigma)    = -0.117 \n",
      "    C(g0_amplitude, g2_amplitude)  =  0.101 \n",
      "    C(g0_center, g2_amplitude)   = -0.101 \n",
      "    C(g2_amplitude, g0_sigma)    =  0.101 \n",
      "\n"
     ]
    },
    {
     "data": {
      "image/png": "[encoded data removed]",
      "text/plain": [
       "<matplotlib.figure.Figure at 0x7f1794861d10>"
      ]
     },
     "metadata": {},
     "output_type": "display_data"
    }
   ],
   "source": [
    "%matplotlib inline\n",
    "plt.figure(figsize=(10,5))\n",
    "plt.xlim(-200,200)\n",
    "result.plot_fit()\n",
    "print result.fit_report()\n",
    "plt.show()"
   ]
  },
  {
   "cell_type": "code",
   "execution_count": null,
   "metadata": {
    "collapsed": true
   },
   "outputs": [],
   "source": []
  }
 ],
 "metadata": {
  "kernelspec": {
   "display_name": "Python 2",
   "language": "python",
   "name": "python2"
  },
  "language_info": {
   "codemirror_mode": {
    "name": "ipython",
    "version": 2
   },
   "file_extension": ".py",
   "mimetype": "text/x-python",
   "name": "python",
   "nbconvert_exporter": "python",
   "pygments_lexer": "ipython2",
   "version": "2.7.12"
  }
 },
 "nbformat": 4,
 "nbformat_minor": 2
}
